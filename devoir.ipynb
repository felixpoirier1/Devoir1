{
 "cells": [
  {
   "cell_type": "code",
   "execution_count": 55,
   "metadata": {},
   "outputs": [],
   "source": [
    "import numpy as np"
   ]
  },
  {
   "cell_type": "markdown",
   "metadata": {},
   "source": [
    "# Question 1\n",
    "\n",
    "$L(C,N,\\lambda) = (\\alpha C^p + (1-a)N^p)^{frac{1}{p}} - \\lambda(p_C C + p_N N -I)$\n",
    "\n",
    "$C^* = \\frac{I}{P_C + P_N(\\frac{P_C}{P_N} \\frac{1 - \\alpha}{\\alpha})^{-\\frac{1}{p - 1}}}$\n",
    "\n",
    "$N^* = \\frac{I}{P_N + P_C(\\frac{P_C}{P_N} \\frac{1 - \\alpha}{\\alpha})^{\\frac{1}{p - 1}}}$"
   ]
  },
  {
   "cell_type": "code",
   "execution_count": 24,
   "metadata": {},
   "outputs": [],
   "source": [
    "I = 100\n",
    "PN = 1\n",
    "PC = 2\n",
    "alpha = 0.7\n",
    "p = 0.5"
   ]
  },
  {
   "cell_type": "code",
   "execution_count": 25,
   "metadata": {},
   "outputs": [],
   "source": [
    "def C_star(I, PN, PC, alpha = 0.7, p = 0.5):\n",
    "    denominateur = PN*(PC/PN*(1-alpha)/alpha)**(-1/(p-1)) + PC\n",
    "\n",
    "    return I/denominateur\n",
    "\n",
    "def N_star(I, PN, PC, alpha = 0.7, p = 0.5):\n",
    "    denominateur = PC*(PC/PN*(1-alpha)/alpha)**(1/(p-1)) + PN\n",
    "\n",
    "    return I/denominateur"
   ]
  },
  {
   "cell_type": "code",
   "execution_count": 26,
   "metadata": {},
   "outputs": [
    {
     "name": "stdout",
     "output_type": "stream",
     "text": [
      "\n",
      "    La quantité demandée de bien a forte intensité de carbone (C) est de\n",
      "    36.57 et celle des autres biens (N) est à 26.87.\n",
      "\n"
     ]
    }
   ],
   "source": [
    "C_rep = C_star(I, PN, PC, alpha, p)\n",
    "N_rep = N_star(I, PN, PC, alpha, p)\n",
    "\n",
    "print(f'''\n",
    "    La quantité demandée de bien a forte intensité de carbone (C) est de\n",
    "    {round(C_rep, 2)} et celle des autres biens (N) est à {round(N_rep,2)}.\n",
    "''')"
   ]
  },
  {
   "cell_type": "markdown",
   "metadata": {},
   "source": [
    "# Question 2\n",
    "\n",
    "$\\begin{aligned}\n",
    "\\eta_{C,I} = \\frac{dC}{dI} \\frac{I}{C}\n",
    "\\end{aligned}$\n",
    "\n",
    "$\\eta_{C,I} = \\frac{1}{P_C + P_N(\\frac{P_C}{P_N} \\frac{1 - \\alpha}{\\alpha})^{-\\frac{1}{p - 1}}}\n",
    "\\frac{I}{\\frac{I}{P_C + P_N(\\frac{P_C}{P_N} \\frac{1 - \\alpha}{\\alpha})^{-\\frac{1}{p - 1}}}}$\n",
    "\n",
    "$\\begin{aligned}\n",
    "\\eta_{C,I} = 1 \\end{aligned}$\n",
    "\n"
   ]
  },
  {
   "cell_type": "code",
   "execution_count": 27,
   "metadata": {},
   "outputs": [],
   "source": [
    "def Share(I, PN, PC, alpha = 0.7, p = 0.5, C = True):\n",
    "    if C:\n",
    "        nominateur = PC*C_star(I, PN, PC, alpha = 0.7, p = 0.5)\n",
    "    \n",
    "    else:\n",
    "        nominateur = PN*N_star(I, PN, PC, alpha = 0.7, p = 0.5)\n",
    "    \n",
    "    return nominateur/I\n"
   ]
  },
  {
   "cell_type": "code",
   "execution_count": 28,
   "metadata": {},
   "outputs": [
    {
     "name": "stdout",
     "output_type": "stream",
     "text": [
      "\n",
      "    La part des biens à forte intensité de carbone (C) est de 73.13%\n",
      "    la part des autres biens (N) est de 26.87%.\n",
      "\n"
     ]
    }
   ],
   "source": [
    "C_part = Share(I, PN, PC, alpha, p, C = True)\n",
    "N_part = Share(I, PN, PC, alpha, p, C = False)\n",
    "\n",
    "print(f'''\n",
    "    La part des biens à forte intensité de carbone (C) est de {round(C_part, 4)*100}%\n",
    "    la part des autres biens (N) est de {round(N_part, 4)*100}%.\n",
    "''')\n"
   ]
  },
  {
   "cell_type": "markdown",
   "metadata": {},
   "source": [
    "On remarque que les proportions sont très près de $\\alpha$ et $\\alpha - 1$, pour $C$ et $N$ respectivement. Cela est cohérent avec le fait que les demandes marshaliennes soient tirées d'une fonction d'utilité Cobb-Douglas et que leur élasticité revenu soit égale à 1 ce qui implique que les part sont fixes pour chaque bien dans le budget"
   ]
  },
  {
   "cell_type": "markdown",
   "metadata": {},
   "source": [
    "# Question 3\n",
    "\n",
    "## (a)"
   ]
  },
  {
   "cell_type": "code",
   "execution_count": 48,
   "metadata": {},
   "outputs": [
    {
     "name": "stdout",
     "output_type": "stream",
     "text": [
      "\n",
      "    En incluant une taxe carbone, les biens à forte intensité de carbone représentent 71.22% soit environ 32 unités,\n",
      "    les autres biens représentent désormais 28.78% soit environ 29 unités.\n",
      "\n"
     ]
    }
   ],
   "source": [
    "gamma = 0.1\n",
    "PC_taxe = PC * (1+gamma)\n",
    "\n",
    "qteC = C_star(I, PN, PC_taxe, alpha, p)\n",
    "qteN = N_star(I, PN, PC_taxe, alpha, p)\n",
    "\n",
    "C_part_taxe = Share(I, PN, PC_taxe, alpha, p)\n",
    "N_part_taxe = Share(I, PN, PC_taxe, alpha, p, False)\n",
    "\n",
    "print(f'''\n",
    "    En incluant une taxe carbone, les biens à forte intensité de carbone représentent {round(C_part_taxe,4)*100}% soit environ {int(round(qteC, 0))} unités,\n",
    "    les autres biens représentent désormais {round(N_part_taxe,4)*100}% soit environ {int(round(qteN, 0))} unités.\n",
    "''')"
   ]
  },
  {
   "cell_type": "markdown",
   "metadata": {},
   "source": [
    "## (b)"
   ]
  },
  {
   "cell_type": "code",
   "execution_count": 51,
   "metadata": {},
   "outputs": [
    {
     "name": "stdout",
     "output_type": "stream",
     "text": [
      "La proportion des biens à forte intensité de carbone augmente de -1.91% dans le budget\n"
     ]
    }
   ],
   "source": [
    "deltaC = C_part_taxe - C_part\n",
    "\n",
    "print(f'La proportion des biens à forte intensité de carbone augmente de {round(deltaC, 4)*100}% dans le budget')"
   ]
  },
  {
   "cell_type": "markdown",
   "metadata": {},
   "source": [
    "## (c)"
   ]
  },
  {
   "cell_type": "code",
   "execution_count": 53,
   "metadata": {},
   "outputs": [],
   "source": [
    "import matplotlib.pyplot as plt"
   ]
  },
  {
   "cell_type": "code",
   "execution_count": 70,
   "metadata": {},
   "outputs": [
    {
     "data": {
      "image/png": "[encoded data removed]",
      "text/plain": [
       "<Figure size 640x480 with 1 Axes>"
      ]
     },
     "metadata": {},
     "output_type": "display_data"
    }
   ],
   "source": [
    "X = np.linspace(0.05, 0.75)\n",
    "y = [Share(I, PN, PC * (1+gamma), alpha, p) for gamma in X]\n",
    "\n",
    "plt.plot(X, y, 'r-')\n",
    "plt.title('Variation de la proportion du bien C selon le niveau de la taxe carbone')\n",
    "plt.xlabel(r'Taxe carbonne ($\\gamma$)')\n",
    "plt.ylabel(r'Proportion du bien $C$ dans le budget ($\\frac{C}{I}$)')\n",
    "plt.show()"
   ]
  },
  {
   "cell_type": "markdown",
   "metadata": {},
   "source": [
    "Ceci est cohérent avec le fait que la fonction d'utilité est de type \"Cobb-Douglas\", en effet cela veux dire que son élasticité prix est de 1. C'est pourquoi la relation entre la taxe carbone et la proportion du bien C dans le budget est linéaire."
   ]
  },
  {
   "cell_type": "markdown",
   "metadata": {},
   "source": [
    "# Question 4"
   ]
  },
  {
   "cell_type": "code",
   "execution_count": null,
   "metadata": {},
   "outputs": [],
   "source": []
  }
 ],
 "metadata": {
  "interpreter": {
   "hash": "e16fc8a63ef3fb8c0abae97f999d43ac1d239d2dd4c25e4ceff557423533cf35"
  },
  "kernelspec": {
   "display_name": "Python 3.10.4 ('pythonstats')",
   "language": "python",
   "name": "python3"
  },
  "language_info": {
   "codemirror_mode": {
    "name": "ipython",
    "version": 3
   },
   "file_extension": ".py",
   "mimetype": "text/x-python",
   "name": "python",
   "nbconvert_exporter": "python",
   "pygments_lexer": "ipython3",
   "version": "3.10.4"
  },
  "orig_nbformat": 4
 },
 "nbformat": 4,
 "nbformat_minor": 2
}
