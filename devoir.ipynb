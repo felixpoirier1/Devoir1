{
 "cells": [
  {
   "cell_type": "code",
   "execution_count": 2,
   "metadata": {},
   "outputs": [],
   "source": [
    "import numpy as np"
   ]
  },
  {
   "cell_type": "markdown",
   "metadata": {},
   "source": [
    "# Question 1\n",
    "\n",
    "$L(C,N,\\lambda) = (\\alpha C^p + (1-a)N^p)^{\\frac{1}{p}} - \\lambda(p_C C + p_N N -I)$\n",
    "\n",
    "$C^* = \\frac{I}{P_C + P_N(\\frac{P_C}{P_N} \\frac{1 - \\alpha}{\\alpha})^{-\\frac{1}{p - 1}}}$\n",
    "\n",
    "$N^* = \\frac{I}{P_N + P_C(\\frac{P_C}{P_N} \\frac{1 - \\alpha}{\\alpha})^{\\frac{1}{p - 1}}}$"
   ]
  },
  {
   "cell_type": "code",
   "execution_count": 3,
   "metadata": {},
   "outputs": [],
   "source": [
    "I = 100\n",
    "PN = 1\n",
    "PC = 2\n",
    "alpha = 0.7\n",
    "p = 0.5"
   ]
  },
  {
   "cell_type": "code",
   "execution_count": 32,
   "metadata": {},
   "outputs": [],
   "source": [
    "def C_star(I, PN, PC, alpha = 0.7, p = 0.5):\n",
    "    denominateur = PN*(PC/PN*(1-alpha)/alpha)**(-1/(p-1)) + PC\n",
    "\n",
    "    return I/denominateur\n",
    "\n",
    "def N_star(I, PN, PC, alpha = 0.7, p = 0.5):\n",
    "    denominateur = PC*(PC/PN*(1-alpha)/alpha)**(1/(p-1)) + PN\n",
    "\n",
    "    return I/denominateur"
   ]
  },
  {
   "cell_type": "code",
   "execution_count": 5,
   "metadata": {},
   "outputs": [
    {
     "name": "stdout",
     "output_type": "stream",
     "text": [
      "\n",
      "    La quantité demandée de bien a forte intensité de carbone (C) est de\n",
      "    36.57 et celle des autres biens (N) est à 26.87.\n",
      "\n"
     ]
    }
   ],
   "source": [
    "C_rep = C_star(I, PN, PC, alpha, p)\n",
    "N_rep = N_star(I, PN, PC, alpha, p)\n",
    "\n",
    "print(f'''\n",
    "    La quantité demandée de bien a forte intensité de carbone (C) est de\n",
    "    {round(C_rep, 2)} et celle des autres biens (N) est à {round(N_rep,2)}.\n",
    "''')"
   ]
  },
  {
   "cell_type": "markdown",
   "metadata": {},
   "source": [
    "# Question 2\n",
    "\n",
    "$\\begin{aligned}\n",
    "\\eta_{C,I} = \\frac{dC}{dI} \\frac{I}{C}\n",
    "\\end{aligned}$\n",
    "\n",
    "$\\eta_{C,I} = \\frac{1}{P_C + P_N(\\frac{P_C}{P_N} \\frac{1 - \\alpha}{\\alpha})^{-\\frac{1}{p - 1}}}\n",
    "\\frac{I}{\\frac{I}{P_C + P_N(\\frac{P_C}{P_N} \\frac{1 - \\alpha}{\\alpha})^{-\\frac{1}{p - 1}}}}$\n",
    "\n",
    "$\\begin{aligned}\n",
    "\\eta_{C,I} = 1 \\end{aligned}$\n",
    "\n"
   ]
  },
  {
   "cell_type": "code",
   "execution_count": 6,
   "metadata": {},
   "outputs": [],
   "source": [
    "def Share(I, PN, PC, alpha = 0.7, p = 0.5, C = True):\n",
    "    if C:\n",
    "        nominateur = PC*C_star(I, PN, PC, alpha = 0.7, p = 0.5)\n",
    "    \n",
    "    else:\n",
    "        nominateur = PN*N_star(I, PN, PC, alpha = 0.7, p = 0.5)\n",
    "    \n",
    "    return nominateur/I\n"
   ]
  },
  {
   "cell_type": "code",
   "execution_count": 7,
   "metadata": {},
   "outputs": [
    {
     "name": "stdout",
     "output_type": "stream",
     "text": [
      "\n",
      "    La part des biens à forte intensité de carbone (C) est de 73.13%\n",
      "    la part des autres biens (N) est de 26.87%.\n",
      "\n"
     ]
    }
   ],
   "source": [
    "C_part = Share(I, PN, PC, alpha, p, C = True)\n",
    "N_part = Share(I, PN, PC, alpha, p, C = False)\n",
    "\n",
    "print(f'''\n",
    "    La part des biens à forte intensité de carbone (C) est de {round(C_part, 4)*100}%\n",
    "    la part des autres biens (N) est de {round(N_part, 4)*100}%.\n",
    "''')\n"
   ]
  },
  {
   "cell_type": "markdown",
   "metadata": {},
   "source": [
    "On remarque que les proportions sont très près de $\\alpha$ et $\\alpha - 1$, pour $C$ et $N$ respectivement. Cela est cohérent avec le fait que les demandes marshaliennes soient tirées d'une fonction d'utilité Cobb-Douglas et que leur élasticité revenu soit égale à 1 ce qui implique que les part sont fixes pour chaque bien dans le budget"
   ]
  },
  {
   "cell_type": "markdown",
   "metadata": {},
   "source": [
    "# Question 3\n",
    "\n",
    "## (a)"
   ]
  },
  {
   "cell_type": "code",
   "execution_count": 8,
   "metadata": {},
   "outputs": [
    {
     "name": "stdout",
     "output_type": "stream",
     "text": [
      "\n",
      "    En incluant une taxe carbone, les biens à forte intensité de carbone représentent 71.22% soit environ 32 unités,\n",
      "    les autres biens représentent désormais 28.78% soit environ 29 unités.\n",
      "\n"
     ]
    }
   ],
   "source": [
    "gamma = 0.1\n",
    "PC_taxe = PC * (1+gamma)\n",
    "\n",
    "qteC = C_star(I, PN, PC_taxe, alpha, p)\n",
    "qteN = N_star(I, PN, PC_taxe, alpha, p)\n",
    "\n",
    "C_part_taxe = Share(I, PN, PC_taxe, alpha, p)\n",
    "N_part_taxe = Share(I, PN, PC_taxe, alpha, p, False)\n",
    "\n",
    "print(f'''\n",
    "    En incluant une taxe carbone, les biens à forte intensité de carbone représentent {round(C_part_taxe,4)*100}% soit environ {int(round(qteC, 0))} unités,\n",
    "    les autres biens représentent désormais {round(N_part_taxe,4)*100}% soit environ {int(round(qteN, 0))} unités.\n",
    "''')"
   ]
  },
  {
   "cell_type": "markdown",
   "metadata": {},
   "source": [
    "## (b)"
   ]
  },
  {
   "cell_type": "code",
   "execution_count": 9,
   "metadata": {},
   "outputs": [
    {
     "name": "stdout",
     "output_type": "stream",
     "text": [
      "La proportion des biens à forte intensité de carbone augmente de -1.91% dans le budget\n"
     ]
    }
   ],
   "source": [
    "deltaC = C_part_taxe - C_part\n",
    "\n",
    "print(f'La proportion des biens à forte intensité de carbone augmente de {round(deltaC, 4)*100}% dans le budget')"
   ]
  },
  {
   "cell_type": "markdown",
   "metadata": {},
   "source": [
    "## (c)"
   ]
  },
  {
   "cell_type": "code",
   "execution_count": 10,
   "metadata": {},
   "outputs": [],
   "source": [
    "import matplotlib.pyplot as plt"
   ]
  },
  {
   "cell_type": "code",
   "execution_count": 11,
   "metadata": {},
   "outputs": [
    {
     "data": {
      "image/png": "[encoded data removed]",
      "text/plain": [
       "<Figure size 432x288 with 1 Axes>"
      ]
     },
     "metadata": {
      "needs_background": "light"
     },
     "output_type": "display_data"
    }
   ],
   "source": [
    "X = np.linspace(0.05, 0.75)\n",
    "y = [Share(I, PN, PC * (1+gamma), alpha, p) for gamma in X]\n",
    "\n",
    "plt.plot(X, y, 'r-')\n",
    "plt.title('Variation de la proportion du bien C selon le niveau de la taxe carbone')\n",
    "plt.xlabel(r'Taxe carbonne ($\\gamma$)')\n",
    "plt.ylabel(r'Proportion du bien $C$ dans le budget ($\\frac{C}{I}$)')\n",
    "plt.show()"
   ]
  },
  {
   "cell_type": "markdown",
   "metadata": {},
   "source": [
    "Ceci est cohérent avec le fait que la fonction d'utilité est de type \"Cobb-Douglas\", en effet cela veux dire que son élasticité prix est de 1. C'est pourquoi la relation entre la taxe carbone et la proportion du bien C dans le budget est linéaire."
   ]
  },
  {
   "cell_type": "markdown",
   "metadata": {},
   "source": [
    "# Question 4"
   ]
  },
  {
   "cell_type": "code",
   "execution_count": 12,
   "metadata": {},
   "outputs": [],
   "source": [
    "def v(I, PC, PN, alpha = 0.7, p = 0.5):\n",
    "    return (alpha*C_star(I, PN, PC, alpha, p)**p + (1-alpha)*N_star(I, PN, PC, alpha, p)**p)**(1/p)\n",
    "\n"
   ]
  },
  {
   "cell_type": "code",
   "execution_count": 13,
   "metadata": {},
   "outputs": [],
   "source": [
    "def slack(cmp, PC, PN, I, alpha, PC_taxe):\n",
    "    return v(I, PC, PN, alpha, p) - v(I+cmp, PC_taxe, PN, alpha, p)"
   ]
  },
  {
   "cell_type": "code",
   "execution_count": 14,
   "metadata": {},
   "outputs": [],
   "source": [
    "from scipy.optimize import bisect"
   ]
  },
  {
   "cell_type": "code",
   "execution_count": 15,
   "metadata": {},
   "outputs": [],
   "source": [
    "cmp = bisect(slack, 0, 200, args=(PC, PN, I, alpha, PC_taxe))"
   ]
  },
  {
   "cell_type": "code",
   "execution_count": 16,
   "metadata": {},
   "outputs": [],
   "source": [
    "def compens(PC, PC_taxe, PN, I, alpha):\n",
    "    return bisect(slack, 0, I, args=(PC, PN, I, alpha, PC_taxe))"
   ]
  },
  {
   "cell_type": "code",
   "execution_count": 17,
   "metadata": {},
   "outputs": [],
   "source": [
    "cmp = compens(PC, PC_taxe, PN, I, alpha)"
   ]
  },
  {
   "cell_type": "code",
   "execution_count": 18,
   "metadata": {},
   "outputs": [
    {
     "data": {
      "text/plain": [
       "-3.836930773104541e-13"
      ]
     },
     "execution_count": 18,
     "metadata": {},
     "output_type": "execute_result"
    }
   ],
   "source": [
    "slack(compens(PC, PC_taxe, PN, I, alpha), PC, PN, I, alpha, PC_taxe)"
   ]
  },
  {
   "cell_type": "code",
   "execution_count": 19,
   "metadata": {},
   "outputs": [
    {
     "data": {
      "text/plain": [
       "Text(0, 0.5, 'Compensation ($cmp$)')"
      ]
     },
     "execution_count": 19,
     "metadata": {},
     "output_type": "execute_result"
    },
    {
     "data": {
      "image/png": "[encoded data removed]",
      "text/plain": [
       "<Figure size 432x288 with 1 Axes>"
      ]
     },
     "metadata": {
      "needs_background": "light"
     },
     "output_type": "display_data"
    }
   ],
   "source": [
    "\n",
    "y = [compens(PC, PC*(1+gamma), PN, I, alpha) for gamma in X]\n",
    "\n",
    "plt.plot(X, y, 'r-')\n",
    "plt.title('Variation de la compensation additionnelle nécessaire selon le niveau de la taxe carbone')\n",
    "plt.xlabel(r'Taxe carbonne ($\\gamma$)')\n",
    "plt.ylabel(r'Compensation ($cmp$)')"
   ]
  },
  {
   "cell_type": "markdown",
   "metadata": {},
   "source": []
  },
  {
   "cell_type": "code",
   "execution_count": 20,
   "metadata": {},
   "outputs": [
    {
     "name": "stdout",
     "output_type": "stream",
     "text": [
      "-3.836930773104541e-13\n"
     ]
    }
   ],
   "source": [
    "util_initiale = v(I, PC, PN)\n",
    "util_finale = v(I+cmp, PC_taxe, PN)\n",
    "print(util_initiale - util_finale)"
   ]
  },
  {
   "cell_type": "markdown",
   "metadata": {},
   "source": [
    "L'utilité initiale et l'utilité après la compensation sont égales ce qui démontre que la compensation annule l'effet de la taxe carbone"
   ]
  },
  {
   "cell_type": "markdown",
   "metadata": {},
   "source": [
    "# Question 5\n",
    "\n",
    "### <i>Rappel</i>:\n",
    "\n",
    "$\\begin{aligned}\n",
    "\\eta_{C,I} = \\frac{dC}{dI} \\frac{I}{C}\n",
    "\\end{aligned}$\n",
    "\n",
    "$\\eta_{C,I} = \\frac{1}{P_C + P_N(\\frac{P_C}{P_N} \\frac{1 - \\alpha}{\\alpha})^{-\\frac{1}{p - 1}}}\n",
    "\\frac{I}{\\frac{I}{P_C + P_N(\\frac{P_C}{P_N} \\frac{1 - \\alpha}{\\alpha})^{-\\frac{1}{p - 1}}}}$\n",
    "\n",
    "$\\begin{aligned}\n",
    "\\eta_{C,I} = 1 \\end{aligned}$"
   ]
  },
  {
   "cell_type": "code",
   "execution_count": 21,
   "metadata": {},
   "outputs": [],
   "source": [
    "C_cmp = C_star(I+cmp, PN, PC*(1+gamma))"
   ]
  },
  {
   "cell_type": "code",
   "execution_count": 22,
   "metadata": {},
   "outputs": [],
   "source": [
    "N_cmp = C_star(I, PN, PC*(1))"
   ]
  },
  {
   "cell_type": "code",
   "execution_count": 23,
   "metadata": {},
   "outputs": [
    {
     "data": {
      "text/plain": [
       "-0.05164108977824778"
      ]
     },
     "execution_count": 23,
     "metadata": {},
     "output_type": "execute_result"
    }
   ],
   "source": [
    "(C_cmp-N_cmp)/N_cmp"
   ]
  },
  {
   "cell_type": "markdown",
   "metadata": {},
   "source": [
    "Lorsque la compensation est versée, la demande de biens a forte intensité carbone diminue de 5,16%, ce qui signifie que les émissions de carbone seront réduites de 5,16% également. "
   ]
  },
  {
   "cell_type": "markdown",
   "metadata": {},
   "source": [
    "# Question 6"
   ]
  },
  {
   "cell_type": "code",
   "execution_count": 24,
   "metadata": {},
   "outputs": [
    {
     "data": {
      "text/plain": [
       "-0.18633382909795415"
      ]
     },
     "execution_count": 24,
     "metadata": {},
     "output_type": "execute_result"
    }
   ],
   "source": [
    "prod_gouv = C_cmp*PC*gamma \n",
    "charge_gouv = cmp\n",
    "\n",
    "impact_net = prod_gouv - charge_gouv\n",
    "impact_net"
   ]
  },
  {
   "cell_type": "markdown",
   "metadata": {},
   "source": [
    "Lorsque le gouvernement impose la taxe $\\gamma$, son revenu net diminue d'environ 0.19$ par consommateur. Cela est dû au fait que le gouvernement doit aussi compenser le consommateur afin que ce dernier garde son utilité constante. L'effet net de la taxe sur le revenu du gouvernement est donc négatif."
   ]
  },
  {
   "cell_type": "markdown",
   "metadata": {},
   "source": [
    "# Question 7"
   ]
  },
  {
   "cell_type": "code",
   "execution_count": 25,
   "metadata": {},
   "outputs": [],
   "source": [
    "def C_star(I, PN, PC, alpha = 0.7, p = 0.5):\n",
    "    denominateur = PN*(PC/PN*(1-alpha)/alpha)**(-1/(p-1)) + PC\n",
    "\n",
    "    return I/denominateur"
   ]
  },
  {
   "cell_type": "code",
   "execution_count": 26,
   "metadata": {},
   "outputs": [
    {
     "data": {
      "image/png": "[encoded data removed]",
      "text/plain": [
       "<Figure size 432x288 with 1 Axes>"
      ]
     },
     "metadata": {
      "needs_background": "light"
     },
     "output_type": "display_data"
    }
   ],
   "source": [
    "X = np.linspace(0.0001, 1)\n",
    "y = [C_star(I+cmp, PN, PC*(1+gamma), alpha, p) for alpha in X]\n",
    "\n",
    "plt.plot(X, y, 'r')\n",
    "\n",
    "plt.title(r'Variation de la quantitée demandée de biens $C$ selon la proportion du bien $C$ dans le budget')\n",
    "plt.xlabel(r'Proportion du bien $C$ dans le budget ($\\alpha$)')\n",
    "plt.ylabel(r'Quantitée demandé du bien ($C$)')\n",
    "\n",
    "plt.grid(True)\n"
   ]
  },
  {
   "cell_type": "code",
   "execution_count": 27,
   "metadata": {},
   "outputs": [
    {
     "data": {
      "image/png": "[encoded data removed]",
      "text/plain": [
       "<Figure size 432x288 with 1 Axes>"
      ]
     },
     "metadata": {
      "needs_background": "light"
     },
     "output_type": "display_data"
    }
   ],
   "source": [
    "y_2 = [C_star(I+cmp, PN, PC*(1+gamma), alpha, p)*PC*gamma - cmp for alpha in X]\n",
    "\n",
    "plt.plot(X, y_2, 'r')\n",
    "\n",
    "plt.plot([-1, 1.5], [0, 0], c='black')\n",
    "\n",
    "plt.xlim(X.min(), X.max())\n",
    "\n",
    "plt.title(r'Variation des revenu net gouvernementales selon la proportion du bien $C$ dans le budget')\n",
    "plt.xlabel(r'Proportion du bien $C$ dans le budget ($\\alpha$)')\n",
    "plt.ylabel(r'Recettes gouvernementales ($C^{cmp} \\cdot P_C - cmp$)')\n",
    "\n",
    "props = dict(facecolor='black', shrink=0.1)\n",
    "plt.annotate('Point de rentabilité', xytext=(0.4, 1), xy=(0.72, 0), arrowprops=props, fontsize=14, ha=\"center\")\n",
    "\n",
    "plt.grid(True)\n"
   ]
  },
  {
   "cell_type": "markdown",
   "metadata": {},
   "source": [
    "Lorsque $\\alpha$ augmente, ce qui signifie que la part du bien à forte intensité carbone dans le budget des consommateurs augmente, les émissions de carbone augmentent, car les consommateurs consomment plus du bien carbone pour le même budget.\n",
    "\n",
    "Le revenu net du gouvernement augmente lorsqu’alpha augmente, car leurs revenus de taxes augmentent puisque la consommation du bien carbone augmente, alors que les compensations qu'ils doivent verser augmentent aussi, mais moins rapidement. Ceci est dû au fait que l'utilité du consommateur augmente quand la proportion du bien carbone augmente. Ainsi, l'effet net sur les profits du gouvernements sont positifs lorsque $\\alpha$ augmente. "
   ]
  },
  {
   "cell_type": "markdown",
   "metadata": {},
   "source": [
    "# Question 8"
   ]
  },
  {
   "cell_type": "code",
   "execution_count": 55,
   "metadata": {},
   "outputs": [
    {
     "data": {
      "text/plain": [
       "[<matplotlib.lines.Line2D at 0x121191820>]"
      ]
     },
     "execution_count": 55,
     "metadata": {},
     "output_type": "execute_result"
    },
    {
     "data": {
      "image/png": "[encoded data removed]",
      "text/plain": [
       "<Figure size 432x288 with 1 Axes>"
      ]
     },
     "metadata": {
      "needs_background": "light"
     },
     "output_type": "display_data"
    }
   ],
   "source": [
    "X = np.linspace(0, 0.99)\n",
    "y = [C_star(I+cmp, PN, PC*(1+gamma), p=rho) for rho in X]\n",
    "\n",
    "y_2 = [C_star(I+cmp, PN, PC*(1+gamma), p=rho) - C_star(I, PN, PC, p=rho) for rho in X]\n",
    "\n",
    "plt.plot(X, y)"
   ]
  },
  {
   "cell_type": "code",
   "execution_count": 56,
   "metadata": {},
   "outputs": [
    {
     "data": {
      "text/plain": [
       "[<matplotlib.lines.Line2D at 0x11ff89eb0>]"
      ]
     },
     "execution_count": 56,
     "metadata": {},
     "output_type": "execute_result"
    },
    {
     "data": {
      "image/png": "[encoded data removed]",
      "text/plain": [
       "<Figure size 432x288 with 1 Axes>"
      ]
     },
     "metadata": {
      "needs_background": "light"
     },
     "output_type": "display_data"
    }
   ],
   "source": [
    "plt.plot(X, y_2)"
   ]
  },
  {
   "cell_type": "code",
   "execution_count": 49,
   "metadata": {},
   "outputs": [
    {
     "data": {
      "text/plain": [
       "-6.467427284369933"
      ]
     },
     "execution_count": 49,
     "metadata": {},
     "output_type": "execute_result"
    }
   ],
   "source": [
    "y_2[45]"
   ]
  },
  {
   "cell_type": "code",
   "execution_count": 60,
   "metadata": {},
   "outputs": [],
   "source": [
    "import pandas as pd"
   ]
  },
  {
   "cell_type": "code",
   "execution_count": 61,
   "metadata": {},
   "outputs": [],
   "source": [
    "y_2 = []\n",
    "c_cmp = []\n",
    "c_ncmp = []\n",
    "for rho in X:\n",
    "    y_2 += [C_star(I+cmp, PN, PC*(1+gamma), p=rho) - C_star(I, PN, PC, p=rho)]\n",
    "    if len(y_2) >= 30:\n",
    "        c_ncmp += [(PC/PN*(1-alpha)/alpha)**((-1)/(rho-1))]\n",
    "        c_cmp += [(PC*(1+gamma)/PN*(1-alpha)/alpha)**((-1)/(rho-1))]\n",
    "        "
   ]
  },
  {
   "cell_type": "code",
   "execution_count": 66,
   "metadata": {},
   "outputs": [
    {
     "data": {
      "text/plain": [
       "<AxesSubplot:>"
      ]
     },
     "execution_count": 66,
     "metadata": {},
     "output_type": "execute_result"
    },
    {
     "data": {
      "image/png": "[encoded data removed]",
      "text/plain": [
       "<Figure size 432x288 with 1 Axes>"
      ]
     },
     "metadata": {
      "needs_background": "light"
     },
     "output_type": "display_data"
    }
   ],
   "source": [
    "pd.DataFrame([c_ncmp, c_cmp], index=['non compensated', 'compensated']).transpose().plot()"
   ]
  },
  {
   "cell_type": "code",
   "execution_count": null,
   "metadata": {},
   "outputs": [],
   "source": []
  }
 ],
 "metadata": {
  "interpreter": {
   "hash": "40d3a090f54c6569ab1632332b64b2c03c39dcf918b08424e98f38b5ae0af88f"
  },
  "kernelspec": {
   "display_name": "Python 3.8.5 ('base')",
   "language": "python",
   "name": "python3"
  },
  "language_info": {
   "codemirror_mode": {
    "name": "ipython",
    "version": 3
   },
   "file_extension": ".py",
   "mimetype": "text/x-python",
   "name": "python",
   "nbconvert_exporter": "python",
   "pygments_lexer": "ipython3",
   "version": "3.8.5"
  },
  "orig_nbformat": 4
 },
 "nbformat": 4,
 "nbformat_minor": 2
}
